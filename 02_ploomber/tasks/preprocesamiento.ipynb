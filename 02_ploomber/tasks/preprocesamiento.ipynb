{
 "cells": [
  {
   "cell_type": "code",
   "execution_count": null,
   "id": "c6300284",
   "metadata": {
    "tags": [
     "soorgeon-imports"
    ]
   },
   "outputs": [],
   "source": [
    "import pandas as pd\n",
    "from pathlib import Path\n",
    "import pickle"
   ]
  },
  {
   "cell_type": "code",
   "execution_count": null,
   "id": "7e226290",
   "metadata": {
    "tags": [
     "parameters"
    ]
   },
   "outputs": [],
   "source": [
    "upstream = ['limpieza-de-datos']\n",
    "product = None"
   ]
  },
  {
   "cell_type": "code",
   "execution_count": null,
   "id": "2729fa77",
   "metadata": {
    "tags": [
     "soorgeon-unpickle"
    ]
   },
   "outputs": [],
   "source": [
    "df = pickle.loads(Path(upstream['limpieza-de-datos']['df']).read_bytes())"
   ]
  },
  {
   "attachments": {},
   "cell_type": "markdown",
   "id": "78764bf1",
   "metadata": {},
   "source": [
    "## Preprocesamiento"
   ]
  },
  {
   "cell_type": "code",
   "execution_count": 5,
   "id": "19569bc1",
   "metadata": {},
   "outputs": [],
   "source": [
    "# Aplicar one-hot encoding a la variable embarked\n",
    "embarked_onehot = pd.get_dummies(df[\"embarked\"], prefix=\"embarked\")\n",
    "df.drop(\"embarked\", axis=1, inplace=True)\n",
    "\n",
    "# Concatenar el one-hot encoding al DataFrame original\n",
    "df = pd.concat([df, embarked_onehot], axis=1)"
   ]
  },
  {
   "cell_type": "code",
   "execution_count": 6,
   "id": "68637bc1",
   "metadata": {},
   "outputs": [],
   "source": [
    "# Convertir datos categóricos a numéricos\n",
    "df[\"sex\"] = df[\"sex\"].map({\"female\": 1, \"male\": 0})"
   ]
  },
  {
   "cell_type": "code",
   "execution_count": 7,
   "id": "bb1ee19f",
   "metadata": {},
   "outputs": [],
   "source": [
    "# Crear variable \"family_size\" que representa el tamaño de la familia (sibsp + parch + 1)\n",
    "df[\"family_size\"] = df[\"sibsp\"] + df[\"parch\"] + 1"
   ]
  },
  {
   "cell_type": "code",
   "execution_count": 8,
   "id": "e9170f33",
   "metadata": {},
   "outputs": [],
   "source": [
    "# Crear variable \"is_child\" que indica si la persona es menor de edad (edad menor a 18 años)\n",
    "df[\"is_child\"] = df[\"age\"] < 18"
   ]
  },
  {
   "cell_type": "code",
   "execution_count": 9,
   "id": "8f6860ef",
   "metadata": {},
   "outputs": [],
   "source": [
    "# Crear variable \"age_group\" que indica en qué rango de edades se encuentra la persona\n",
    "bins = [0, 18, 30, 50, 100]\n",
    "labels = [\"0-18\", \"19-30\", \"31-50\", \"51+\"]\n",
    "df[\"age_group\"] = pd.cut(df[\"age\"], bins=bins, labels=labels)\n",
    "age_group_onehot = pd.get_dummies(\n",
    "    df[\"age_group\"], prefix=\"age_group\"\n",
    ")  # ,drop_first=True\n",
    "df = pd.concat([df, age_group_onehot], axis=1)\n",
    "df.drop(\"age_group\", axis=1, inplace=True)"
   ]
  },
  {
   "cell_type": "code",
   "execution_count": null,
   "id": "147f2bf8",
   "metadata": {
    "tags": [
     "soorgeon-pickle"
    ]
   },
   "outputs": [],
   "source": [
    "Path(product['df']).parent.mkdir(exist_ok=True, parents=True)\n",
    "Path(product['df']).write_bytes(pickle.dumps(df))"
   ]
  }
 ],
 "metadata": {
  "kernelspec": {
   "display_name": "Python 3",
   "language": "python",
   "name": "python3"
  }
 },
 "nbformat": 4,
 "nbformat_minor": 5
}