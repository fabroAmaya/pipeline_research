{
 "cells": [
  {
   "cell_type": "code",
   "execution_count": 1,
   "id": "dc80b7eb",
   "metadata": {
    "execution": {
     "iopub.execute_input": "2023-06-20T12:43:34.632275Z",
     "iopub.status.busy": "2023-06-20T12:43:34.631730Z",
     "iopub.status.idle": "2023-06-20T12:43:34.638609Z",
     "shell.execute_reply": "2023-06-20T12:43:34.637778Z"
    },
    "lines_to_next_cell": 2,
    "papermill": {
     "duration": 0.018905,
     "end_time": "2023-06-20T12:43:34.641550",
     "exception": false,
     "start_time": "2023-06-20T12:43:34.622645",
     "status": "completed"
    },
    "tags": []
   },
   "outputs": [],
   "source": [
    "# Add description here\n",
    "#\n",
    "# *Note:* You can open this file as a notebook (JupyterLab: right-click on it in the side bar -> Open With -> Notebook)"
   ]
  },
  {
   "cell_type": "code",
   "execution_count": 2,
   "id": "634fcb05",
   "metadata": {
    "execution": {
     "iopub.execute_input": "2023-06-20T12:43:34.649712Z",
     "iopub.status.busy": "2023-06-20T12:43:34.649304Z",
     "iopub.status.idle": "2023-06-20T12:43:34.653197Z",
     "shell.execute_reply": "2023-06-20T12:43:34.652436Z"
    },
    "papermill": {
     "duration": 0.0108,
     "end_time": "2023-06-20T12:43:34.655575",
     "exception": false,
     "start_time": "2023-06-20T12:43:34.644775",
     "status": "completed"
    },
    "tags": []
   },
   "outputs": [],
   "source": [
    "# Uncomment the next two lines to enable auto reloading for imported modules\n",
    "# %load_ext autoreload\n",
    "# %autoreload 2\n",
    "# For more info, see:\n",
    "# https://docs.ploomber.io/en/latest/user-guide/faq_index.html#auto-reloading-code-in-jupyter"
   ]
  },
  {
   "cell_type": "code",
   "execution_count": 3,
   "id": "524a7483",
   "metadata": {
    "execution": {
     "iopub.execute_input": "2023-06-20T12:43:34.665152Z",
     "iopub.status.busy": "2023-06-20T12:43:34.664582Z",
     "iopub.status.idle": "2023-06-20T12:43:34.676791Z",
     "shell.execute_reply": "2023-06-20T12:43:34.675209Z"
    },
    "lines_to_next_cell": 2,
    "papermill": {
     "duration": 0.024042,
     "end_time": "2023-06-20T12:43:34.681851",
     "exception": false,
     "start_time": "2023-06-20T12:43:34.657809",
     "status": "completed"
    },
    "tags": [
     "parameters"
    ]
   },
   "outputs": [],
   "source": [
    "# If this task has dependencies, list them them here\n",
    "# (e.g. upstream = ['some_task']), otherwise leave as None.\n",
    "upstream = None\n",
    "\n",
    "# This is a placeholder, leave it as None\n",
    "product = None"
   ]
  },
  {
   "cell_type": "code",
   "execution_count": 4,
   "id": "9944928d",
   "metadata": {
    "execution": {
     "iopub.execute_input": "2023-06-20T12:43:34.686815Z",
     "iopub.status.busy": "2023-06-20T12:43:34.686366Z",
     "iopub.status.idle": "2023-06-20T12:43:34.689441Z",
     "shell.execute_reply": "2023-06-20T12:43:34.688985Z"
    },
    "papermill": {
     "duration": 0.007347,
     "end_time": "2023-06-20T12:43:34.691232",
     "exception": false,
     "start_time": "2023-06-20T12:43:34.683885",
     "status": "completed"
    },
    "tags": [
     "injected-parameters"
    ]
   },
   "outputs": [],
   "source": [
    "# Parameters\n",
    "product = {\n",
    "    \"nb\": \"/Users/fabrizioamayarico/Sistema/pipelines_research/04_test_ploomber/get.ipynb\",\n",
    "    \"data\": \"/Users/fabrizioamayarico/Sistema/pipelines_research/04_test_ploomber/data.csv\",\n",
    "}\n"
   ]
  },
  {
   "cell_type": "code",
   "execution_count": 5,
   "id": "1b80cee2",
   "metadata": {
    "execution": {
     "iopub.execute_input": "2023-06-20T12:43:34.695609Z",
     "iopub.status.busy": "2023-06-20T12:43:34.695223Z",
     "iopub.status.idle": "2023-06-20T12:43:34.698994Z",
     "shell.execute_reply": "2023-06-20T12:43:34.698508Z"
    },
    "papermill": {
     "duration": 0.007611,
     "end_time": "2023-06-20T12:43:34.700557",
     "exception": false,
     "start_time": "2023-06-20T12:43:34.692946",
     "status": "completed"
    },
    "tags": []
   },
   "outputs": [],
   "source": [
    "import os\n",
    "product = {\n",
    "    \"nb\": f\"{os.getcwd()}/product/nb/get.ipynb\",\n",
    "    \"data\": f\"{os.getcwd()}/product/data/data.csv\"\n",
    "}"
   ]
  },
  {
   "cell_type": "code",
   "execution_count": 6,
   "id": "ad5996d5",
   "metadata": {
    "execution": {
     "iopub.execute_input": "2023-06-20T12:43:34.704705Z",
     "iopub.status.busy": "2023-06-20T12:43:34.704480Z",
     "iopub.status.idle": "2023-06-20T12:43:36.226836Z",
     "shell.execute_reply": "2023-06-20T12:43:36.226182Z"
    },
    "papermill": {
     "duration": 1.52669,
     "end_time": "2023-06-20T12:43:36.228895",
     "exception": false,
     "start_time": "2023-06-20T12:43:34.702205",
     "status": "completed"
    },
    "tags": []
   },
   "outputs": [],
   "source": [
    "from sklearn.datasets import load_iris\n",
    "raw = load_iris(as_frame = True)\n",
    "\n",
    "df = raw['data']\n",
    "df['target'] = raw['target']\n",
    "\n",
    "# Guardo datos\n",
    "df.to_csv(product['data'],index=False)"
   ]
  }
 ],
 "metadata": {
  "jupytext": {
   "text_representation": {
    "extension": ".py",
    "format_name": "percent"
   }
  },
  "kernelspec": {
   "display_name": "Python 3 (ipykernel)",
   "language": "python",
   "name": "python3"
  },
  "language_info": {
   "codemirror_mode": {
    "name": "ipython",
    "version": 3
   },
   "file_extension": ".py",
   "mimetype": "text/x-python",
   "name": "python",
   "nbconvert_exporter": "python",
   "pygments_lexer": "ipython3",
   "version": "3.9.16"
  },
  "papermill": {
   "duration": 3.173227,
   "end_time": "2023-06-20T12:43:36.552414",
   "exception": null,
   "input_path": "/var/folders/df/drxf50t13_z51tn7mtyql0r40000gn/T/tmpyppkd7mf.ipynb",
   "output_path": "/Users/fabrizioamayarico/Sistema/pipelines_research/04_test_ploomber/get.ipynb",
   "parameters": {
    "product": {
     "data": "/Users/fabrizioamayarico/Sistema/pipelines_research/04_test_ploomber/data.csv",
     "nb": "/Users/fabrizioamayarico/Sistema/pipelines_research/04_test_ploomber/get.ipynb"
    }
   },
   "start_time": "2023-06-20T12:43:33.379187"
  }
 },
 "nbformat": 4,
 "nbformat_minor": 5
}