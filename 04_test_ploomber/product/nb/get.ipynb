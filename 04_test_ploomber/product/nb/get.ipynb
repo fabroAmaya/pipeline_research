{
 "cells": [
  {
   "cell_type": "code",
   "execution_count": 1,
   "id": "6f94d9ba",
   "metadata": {
    "execution": {
     "iopub.execute_input": "2023-06-20T12:44:34.696796Z",
     "iopub.status.busy": "2023-06-20T12:44:34.696347Z",
     "iopub.status.idle": "2023-06-20T12:44:34.702644Z",
     "shell.execute_reply": "2023-06-20T12:44:34.701726Z"
    },
    "lines_to_next_cell": 2,
    "papermill": {
     "duration": 0.018125,
     "end_time": "2023-06-20T12:44:34.705592",
     "exception": false,
     "start_time": "2023-06-20T12:44:34.687467",
     "status": "completed"
    },
    "tags": []
   },
   "outputs": [],
   "source": [
    "# Add description here\n",
    "#\n",
    "# *Note:* You can open this file as a notebook (JupyterLab: right-click on it in the side bar -> Open With -> Notebook)"
   ]
  },
  {
   "cell_type": "code",
   "execution_count": 2,
   "id": "722a4936",
   "metadata": {
    "execution": {
     "iopub.execute_input": "2023-06-20T12:44:34.713026Z",
     "iopub.status.busy": "2023-06-20T12:44:34.712562Z",
     "iopub.status.idle": "2023-06-20T12:44:34.716436Z",
     "shell.execute_reply": "2023-06-20T12:44:34.715725Z"
    },
    "papermill": {
     "duration": 0.009698,
     "end_time": "2023-06-20T12:44:34.718474",
     "exception": false,
     "start_time": "2023-06-20T12:44:34.708776",
     "status": "completed"
    },
    "tags": []
   },
   "outputs": [],
   "source": [
    "# Uncomment the next two lines to enable auto reloading for imported modules\n",
    "# %load_ext autoreload\n",
    "# %autoreload 2\n",
    "# For more info, see:\n",
    "# https://docs.ploomber.io/en/latest/user-guide/faq_index.html#auto-reloading-code-in-jupyter"
   ]
  },
  {
   "cell_type": "code",
   "execution_count": 3,
   "id": "1e001425",
   "metadata": {
    "execution": {
     "iopub.execute_input": "2023-06-20T12:44:34.724130Z",
     "iopub.status.busy": "2023-06-20T12:44:34.723813Z",
     "iopub.status.idle": "2023-06-20T12:44:34.731345Z",
     "shell.execute_reply": "2023-06-20T12:44:34.730723Z"
    },
    "lines_to_next_cell": 2,
    "papermill": {
     "duration": 0.01237,
     "end_time": "2023-06-20T12:44:34.733216",
     "exception": false,
     "start_time": "2023-06-20T12:44:34.720846",
     "status": "completed"
    },
    "tags": [
     "parameters"
    ]
   },
   "outputs": [],
   "source": [
    "# If this task has dependencies, list them them here\n",
    "# (e.g. upstream = ['some_task']), otherwise leave as None.\n",
    "upstream = None\n",
    "\n",
    "# This is a placeholder, leave it as None\n",
    "product = None"
   ]
  },
  {
   "cell_type": "code",
   "execution_count": 4,
   "id": "1ea7430b",
   "metadata": {
    "execution": {
     "iopub.execute_input": "2023-06-20T12:44:34.737828Z",
     "iopub.status.busy": "2023-06-20T12:44:34.737597Z",
     "iopub.status.idle": "2023-06-20T12:44:34.740478Z",
     "shell.execute_reply": "2023-06-20T12:44:34.740002Z"
    },
    "papermill": {
     "duration": 0.006952,
     "end_time": "2023-06-20T12:44:34.742034",
     "exception": false,
     "start_time": "2023-06-20T12:44:34.735082",
     "status": "completed"
    },
    "tags": [
     "injected-parameters"
    ]
   },
   "outputs": [],
   "source": [
    "# Parameters\n",
    "product = {\n",
    "    \"nb\": \"/Users/fabrizioamayarico/Sistema/pipelines_research/04_test_ploomber/product/nb/get.ipynb\",\n",
    "    \"data\": \"/Users/fabrizioamayarico/Sistema/pipelines_research/04_test_ploomber/product/data/data.csv\",\n",
    "}\n"
   ]
  },
  {
   "cell_type": "code",
   "execution_count": 5,
   "id": "ae220ae0",
   "metadata": {
    "execution": {
     "iopub.execute_input": "2023-06-20T12:44:34.746065Z",
     "iopub.status.busy": "2023-06-20T12:44:34.745841Z",
     "iopub.status.idle": "2023-06-20T12:44:34.749575Z",
     "shell.execute_reply": "2023-06-20T12:44:34.749078Z"
    },
    "papermill": {
     "duration": 0.007579,
     "end_time": "2023-06-20T12:44:34.751235",
     "exception": false,
     "start_time": "2023-06-20T12:44:34.743656",
     "status": "completed"
    },
    "tags": []
   },
   "outputs": [],
   "source": [
    "import os\n",
    "product = {\n",
    "    \"nb\": f\"{os.getcwd()}/product/nb/get.ipynb\",\n",
    "    \"data\": f\"{os.getcwd()}/product/data/data.csv\"\n",
    "}"
   ]
  },
  {
   "cell_type": "code",
   "execution_count": 6,
   "id": "0e6c1a6e",
   "metadata": {
    "execution": {
     "iopub.execute_input": "2023-06-20T12:44:34.755599Z",
     "iopub.status.busy": "2023-06-20T12:44:34.755367Z",
     "iopub.status.idle": "2023-06-20T12:44:36.253565Z",
     "shell.execute_reply": "2023-06-20T12:44:36.252915Z"
    },
    "papermill": {
     "duration": 1.502588,
     "end_time": "2023-06-20T12:44:36.255600",
     "exception": false,
     "start_time": "2023-06-20T12:44:34.753012",
     "status": "completed"
    },
    "tags": []
   },
   "outputs": [],
   "source": [
    "from sklearn.datasets import load_iris\n",
    "raw = load_iris(as_frame = True)\n",
    "\n",
    "df = raw['data']\n",
    "df['target'] = raw['target']\n",
    "\n",
    "# Guardo datos\n",
    "df.to_csv(product['data'],index=False)"
   ]
  }
 ],
 "metadata": {
  "jupytext": {
   "text_representation": {
    "extension": ".py",
    "format_name": "percent"
   }
  },
  "kernelspec": {
   "display_name": "Python 3 (ipykernel)",
   "language": "python",
   "name": "python3"
  },
  "language_info": {
   "codemirror_mode": {
    "name": "ipython",
    "version": 3
   },
   "file_extension": ".py",
   "mimetype": "text/x-python",
   "name": "python",
   "nbconvert_exporter": "python",
   "pygments_lexer": "ipython3",
   "version": "3.9.16"
  },
  "papermill": {
   "duration": 3.23304,
   "end_time": "2023-06-20T12:44:36.579286",
   "exception": null,
   "input_path": "/var/folders/df/drxf50t13_z51tn7mtyql0r40000gn/T/tmp09oe26h_.ipynb",
   "output_path": "/Users/fabrizioamayarico/Sistema/pipelines_research/04_test_ploomber/product/nb/get.ipynb",
   "parameters": {
    "product": {
     "data": "/Users/fabrizioamayarico/Sistema/pipelines_research/04_test_ploomber/product/data/data.csv",
     "nb": "/Users/fabrizioamayarico/Sistema/pipelines_research/04_test_ploomber/product/nb/get.ipynb"
    }
   },
   "start_time": "2023-06-20T12:44:33.346246"
  }
 },
 "nbformat": 4,
 "nbformat_minor": 5
}